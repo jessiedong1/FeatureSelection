{
 "cells": [
  {
   "cell_type": "code",
   "execution_count": 3,
   "metadata": {
    "collapsed": true
   },
   "outputs": [
    {
     "name": "stdout",
     "output_type": "stream",
     "text": [
      "Features before feature selection: ['TVTH40pprettt0' 'TVTH40pprettt1' 'TVTH40pprettt2' 'TVTH40pprettt3'\n 'SUVmax0' 'SUVmax1' 'SUVmax2' 'SUVmax3' 'SUVpeak0' 'SUVpeak1' 'SUVpeak2'\n 'SUVpeak3' 'SUVmean0' 'SUVmean1' 'SUVmean2' 'SUVmean3' 'TLG0' 'TLG1'\n 'TLG2' 'TLG3' 'glszmSZE0' 'glszmSZE1' 'glszmSZE2' 'glszmSZE3' 'glszmLZE0'\n 'glszmLZE1' 'glszmLZE2' 'glszmLZE3' 'glszmHGLZE0' 'glszmHGLZE1'\n 'glszmHGLZE2' 'glszmHGLZE3' 'glszmSZLGLE0' 'glszmSZLGLE1' 'glszmSZLGLE2'\n 'glszmSZLGLE3' 'glszmSZHGLE0' 'glszmSZHGLE1' 'glszmSZHGLE2'\n 'glszmSZHGLE3' 'glszmGLNU0' 'glszmGLNU1' 'glszmGLNU2' 'glszmGLNU3'\n 'glszmZSNU0' 'glszmZSNU1' 'glszmZSNU2' 'glszmZSNU3' 'glszmZPC0'\n 'glszmZPC1' 'glszmZPC2' 'glszmZPC3']\n"
     ]
    },
    {
     "ename": "FileNotFoundError",
     "evalue": "[Errno 2] No such file or directory: 'cervical_x.npy'",
     "traceback": [
      "\u001b[1;31m---------------------------------------------------------------------------\u001b[0m",
      "\u001b[1;31mFileNotFoundError\u001b[0m                         Traceback (most recent call last)",
      "\u001b[1;32m<ipython-input-3-2b7b98db482c>\u001b[0m in \u001b[0;36m<module>\u001b[1;34m()\u001b[0m\n\u001b[0;32m     34\u001b[0m \u001b[1;33m\u001b[0m\u001b[0m\n\u001b[0;32m     35\u001b[0m \u001b[1;31m#Save the resmapling data into npy\u001b[0m\u001b[1;33m\u001b[0m\u001b[1;33m\u001b[0m\u001b[0m\n\u001b[1;32m---> 36\u001b[1;33m \u001b[0mX_resampled\u001b[0m \u001b[1;33m=\u001b[0m \u001b[0mnp\u001b[0m\u001b[1;33m.\u001b[0m\u001b[0mload\u001b[0m\u001b[1;33m(\u001b[0m\u001b[1;34m'cervical_x.npy'\u001b[0m\u001b[1;33m)\u001b[0m\u001b[1;33m\u001b[0m\u001b[0m\n\u001b[0m\u001b[0;32m     37\u001b[0m \u001b[0my_resampled\u001b[0m \u001b[1;33m=\u001b[0m \u001b[0mnp\u001b[0m\u001b[1;33m.\u001b[0m\u001b[0mload\u001b[0m\u001b[1;33m(\u001b[0m\u001b[1;34m'Cervical_y.npy'\u001b[0m\u001b[1;33m)\u001b[0m\u001b[1;33m\u001b[0m\u001b[0m\n\u001b[0;32m     38\u001b[0m \u001b[1;33m\u001b[0m\u001b[0m\n",
      "\u001b[1;32mD:\\Application\\Anaconda\\lib\\site-packages\\numpy\\lib\\npyio.py\u001b[0m in \u001b[0;36mload\u001b[1;34m(file, mmap_mode, allow_pickle, fix_imports, encoding)\u001b[0m\n\u001b[0;32m    382\u001b[0m     \u001b[0mown_fid\u001b[0m \u001b[1;33m=\u001b[0m \u001b[1;32mFalse\u001b[0m\u001b[1;33m\u001b[0m\u001b[0m\n\u001b[0;32m    383\u001b[0m     \u001b[1;32mif\u001b[0m \u001b[0misinstance\u001b[0m\u001b[1;33m(\u001b[0m\u001b[0mfile\u001b[0m\u001b[1;33m,\u001b[0m \u001b[0mbasestring\u001b[0m\u001b[1;33m)\u001b[0m\u001b[1;33m:\u001b[0m\u001b[1;33m\u001b[0m\u001b[0m\n\u001b[1;32m--> 384\u001b[1;33m         \u001b[0mfid\u001b[0m \u001b[1;33m=\u001b[0m \u001b[0mopen\u001b[0m\u001b[1;33m(\u001b[0m\u001b[0mfile\u001b[0m\u001b[1;33m,\u001b[0m \u001b[1;34m\"rb\"\u001b[0m\u001b[1;33m)\u001b[0m\u001b[1;33m\u001b[0m\u001b[0m\n\u001b[0m\u001b[0;32m    385\u001b[0m         \u001b[0mown_fid\u001b[0m \u001b[1;33m=\u001b[0m \u001b[1;32mTrue\u001b[0m\u001b[1;33m\u001b[0m\u001b[0m\n\u001b[0;32m    386\u001b[0m     \u001b[1;32melif\u001b[0m \u001b[0mis_pathlib_path\u001b[0m\u001b[1;33m(\u001b[0m\u001b[0mfile\u001b[0m\u001b[1;33m)\u001b[0m\u001b[1;33m:\u001b[0m\u001b[1;33m\u001b[0m\u001b[0m\n",
      "\u001b[1;31mFileNotFoundError\u001b[0m: [Errno 2] No such file or directory: 'cervical_x.npy'"
     ],
     "output_type": "error"
    }
   ],
   "source": [
    "import numpy as np\n",
    "import matplotlib.pyplot as plt\n",
    "import pandas as pd\n",
    "from imblearn.over_sampling import ADASYN\n",
    "from skfeature.function.similarity_based import fisher_score\n",
    "from sklearn.model_selection import train_test_split\n",
    "from sklearn.model_selection import KFold\n",
    "from sklearn.model_selection import cross_val_score\n",
    "from sklearn.tree import DecisionTreeClassifier\n",
    "from sklearn.metrics import roc_curve, auc\n",
    "from scipy import interp\n",
    "from sklearn.model_selection import StratifiedKFold\n",
    "import graphviz\n",
    "from sklearn.tree import export_graphviz\n",
    "\n",
    "#import data from csv\n",
    "ad = pd.read_csv('D:\\Spring2017\\Artificial Intelligence\\hotspotlungtumtemp_Recurrence.csv')\n",
    "ad.head()\n",
    "\n",
    "\n",
    "#get all the features\n",
    "X_data = ad.iloc[:, 0:52]\n",
    "X = pd.DataFrame(X_data)\n",
    "\n",
    "#Print the colums name\n",
    "print(\"Features before feature selection: {}\".format(X.columns.values))\n",
    "\n",
    "#Get classes\n",
    "y_data = ad['Label']\n",
    "y = pd.DataFrame(y_data)\n",
    "y=y.values.ravel()\n",
    "\n",
    "\n",
    "\n",
    "#Save the resmapling data into npy\n",
    "X_resampled = np.load('cervical_x.npy')\n",
    "y_resampled = np.load('Cervical_y.npy')\n",
    "\n",
    "X_resampled = pd.DataFrame(X_resampled)\n",
    "X_resampled.columns = X.columns.values\n",
    "\n",
    "cv=StratifiedKFold(n_splits=10)\n",
    "\n",
    "for train, test in cv.split(X_resampled, y_resampled):\n",
    "    score = fisher_score.fisher_score(X_resampled.iloc[train], y_resampled[train])\n",
    "\n",
    "print(score)\n",
    "idx = fisher_score.feature_ranking(score)\n",
    "\n",
    "X1 = X_resampled.iloc[:, [idx[0], idx[1], idx[2], idx[3], idx[4], idx[5], idx[6], idx[7], idx[8], idx[9], idx[10], idx[11]]]\n",
    "\n",
    "#X1 = X_resampled.iloc[:, [idx[0], idx[1], idx[2], idx[3], idx[4],idx[5]]]\n",
    "\n",
    "#print(X_resampled.columns.values)\n",
    "\n",
    "X_resampled = X1\n",
    "\n",
    "clf = DecisionTreeClassifier(random_state=0)\n",
    "cv=StratifiedKFold(n_splits=8)\n",
    "\n",
    "scores = cross_val_score(clf, X_resampled, y_resampled, scoring=\"roc_auc\", cv=cv)\n",
    "acc = cross_val_score(clf, X_resampled, y_resampled, scoring=\"accuracy\", cv=cv)\n",
    "recall = cross_val_score(clf, X_resampled, y_resampled, scoring=\"recall\", cv=cv)\n",
    "prec = cross_val_score(clf, X_resampled, y_resampled, scoring=\"precision\", cv=cv)\n",
    "\n",
    "#acc = cross_val_score(classifier, X_resampled, y_resampled, scoring=\"accuracy\", cv=cv)\n",
    "#print(scores)\n",
    "print(\"Accuracy {}\".format(acc.mean()))\n",
    "print(\"AUC {}\".format(scores.mean()))\n",
    "print(\"Recall {}\".format(recall.mean()))\n",
    "print(\"Precision {}\".format(prec.mean()))\n",
    "\n",
    "for train, test in cv.split(X_resampled, y_resampled):\n",
    "    probas_ = clf.fit(X_resampled.iloc[train], y_resampled[train]).predict_proba(X_resampled.iloc[test])\n",
    "\n",
    "export_graphviz(clf, out_file=\"Hotsp_Fisher.dot\", class_names = [ \"Non-Recurrence\", \"Recurrence\"] ,\n",
    "                feature_names=X_resampled.columns.values, impurity=False, filled=True\n",
    "                )\n",
    "\n",
    "with open(\"Hotsp_Fisher.dot\") as f:\n",
    "    dot_graph = f.read()\n",
    "\n",
    "graphviz.Source(dot_graph)\n"
   ]
  },
  {
   "cell_type": "code",
   "execution_count": 3,
   "metadata": {},
   "outputs": [],
   "source": []
  },
  {
   "cell_type": "code",
   "execution_count": null,
   "metadata": {},
   "outputs": [],
   "source": []
  }
 ],
 "metadata": {
  "kernelspec": {
   "display_name": "Python 2",
   "language": "python",
   "name": "python2"
  },
  "language_info": {
   "codemirror_mode": {
    "name": "ipython",
    "version": 2
   },
   "file_extension": ".py",
   "mimetype": "text/x-python",
   "name": "python",
   "nbconvert_exporter": "python",
   "pygments_lexer": "ipython2",
   "version": "2.7.6"
  }
 },
 "nbformat": 4,
 "nbformat_minor": 0
}
